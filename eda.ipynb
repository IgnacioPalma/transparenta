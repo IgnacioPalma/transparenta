{
 "cells": [
  {
   "cell_type": "markdown",
   "id": "345a27af",
   "metadata": {},
   "source": [
    "### Diccionario de datos ChileCompra - Órdenes de Compra\n",
    "\n",
    "| Campo                | Descripción |\n",
    "|----------------------|-------------|\n",
    "| `codigoOC`           | Código único de la orden de compra. Suele estar en el formato XX-YY-ZZ. |\n",
    "| `NroLicitacion`      | Número de licitación asociado a la orden de compra. Si es trato directo, puede venir vacío. |\n",
    "| `FechaEnvioOC`       | Fecha en que se envió la orden de compra. Formato típico: YYYY-MM-DD. |\n",
    "| `NombreOC`           | Nombre o título de la orden de compra. Describe brevemente el contenido. |\n",
    "| `EstadoOC`           | Estado actual de la OC: Aceptada, En Proceso, Anulada, etc. |\n",
    "| `ProcedenciaOC`      | Forma en que se originó la OC: puede ser Licitación Pública, Trato Directo, Convenio Marco, etc. |\n",
    "| `MontoTotalOC`       | Monto total de la OC (con IVA incluido). Generalmente expresado en CLP. |\n",
    "| `MontoNetoOC_CLP`    | Monto neto (sin IVA) en pesos chilenos. |\n",
    "| `UnidadCompra`       | Nombre de la unidad compradora (departamento o división dentro de la institución). |\n",
    "| `RegionUnidadCompra` | Región geográfica de la unidad compradora|\n",
    "| `Institucion`        | Institución pública que realiza la compra (ej. Ministerio de Salud). |\n",
    "| `Sector`             | Sector al que pertenece la institución (ej. Salud, Educación, etc.). |\n",
    "| `Proveedor`          | Nombre del proveedor que recibe la orden de compra. |\n",
    "| `ProveedorRUT`       | Rut Único Tributario del proveedor (formato: 12.345.678-9). |\n",
    "| `TamanoProveedor`    | Tamaño de la empresa: Micro, Pequeña, Mediana, Grande. |\n",
    "| `RegionProveedor`    | Región donde está ubicado el proveedor. |\n",
    "| `RubroN1, N2, N3`     | Ni idea |\n",
    "| `ONUProducto`        | Código del producto o servicio según clasificación de la ONU (UNSPSC). Estandariza los productos a nivel internacional. |\n",
    "| `NombreItem`         | Nombre del ítem o servicio específico comprado. |\n",
    "| `CantidadItem`       | Cantidad de unidades del ítem comprado. |\n",
    "| `MontoTotalItem`     | Monto total del ítem (Cantidad * Precio unitario, con IVA). |\n",
    "| `Modalidad`          | Modalidad de compra: Licitación Pública, Convenio Marco, Trato Directo, Licitación Privada, etc. |\n"
   ]
  }
 ],
 "metadata": {
  "language_info": {
   "name": "python"
  }
 },
 "nbformat": 4,
 "nbformat_minor": 5
}
