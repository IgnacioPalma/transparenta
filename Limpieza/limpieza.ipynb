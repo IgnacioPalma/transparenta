{
 "cells": [
  {
   "cell_type": "markdown",
   "id": "4389557b",
   "metadata": {},
   "source": [
    "## Limpieza de Datos: Compras Públicas Municipalidades\n",
    "\n",
    "Este notebook documenta el proceso de limpieza y estandarización de datos de compras públicas municipales en Chile, obtenidos de la plataforma Mercado Público. El objetivo es preparar los datasets para un EDA posterior.\n",
    "\n",
    "Para correr este notebook es necesario tener un una carpeta llamada Municipalidad con los datos en formato csv, en el mismo directorio. el formato es:\n",
    "\n",
    "\"Limpieza/Municipalidades/CompraAgil.csv\" \n",
    "\n",
    "\n",
    "Se trabajará con 4 datasest: \n",
    "\n",
    "*  Compra Ágil\n",
    "* Convenio Marco\n",
    "* Licitación\n",
    "* Trato Directo\n",
    "\n",
    "\n",
    "!! Por ahora no trabajare con Convenio Marco, más adelante verémos si es de utilidad\n",
    "\n"
   ]
  },
  {
   "cell_type": "code",
   "execution_count": 24,
   "id": "e324a0ee",
   "metadata": {},
   "outputs": [],
   "source": [
    "import pandas as pd\n",
    "import os"
   ]
  },
  {
   "cell_type": "code",
   "execution_count": 25,
   "id": "a01f5405",
   "metadata": {},
   "outputs": [],
   "source": [
    "def clean_dataset(df, data_name):\n",
    "    \"\"\"\n",
    "    Función para limpiar tipos de datos en datasets de compras públicas\n",
    "    \"\"\"\n",
    "\n",
    "    # Fechas\n",
    "    if 'FechaEnvioOC' in df.columns:\n",
    "            df['FechaEnvioOC'] = pd.to_datetime(df['FechaEnvioOC'], dayfirst=True, errors='coerce')\n",
    "    \n",
    "    # Montos\n",
    "    for col in ['MontoNetoOC_CLP', 'MontoNetoItemCLP', 'CantidadItem']:\n",
    "        if col in df.columns:\n",
    "            #arreglar formatos\n",
    "            df[col] = df[col].astype(str).str.replace('.', '', regex=False)\n",
    "            df[col] = df[col].str.replace(',', '.', regex=False)\n",
    "            df[col] = pd.to_numeric(df[col], errors='coerce')\n",
    "            \n",
    "            # para trabajar con enteros\n",
    "            df[col] = df[col].round().astype('Int64')\n",
    "    \n",
    "    # Limpiar texto\n",
    "    text_columns = ['Proveedor', 'Institucion', 'NombreOC', 'NombreItem']\n",
    "    for col in text_columns:\n",
    "        if col in df.columns:\n",
    "            df[col] = df[col].astype(str).str.strip().str.upper()\n",
    "    \n",
    "    return df"
   ]
  },
  {
   "cell_type": "code",
   "execution_count": 26,
   "id": "014bf251",
   "metadata": {},
   "outputs": [],
   "source": [
    "'''\n",
    "Aqui voy a seleccionar algunas columnas de interés\n",
    "'''\n",
    "\n",
    "columns_to_keep = [\n",
    "    \"codigoOC\",\n",
    "    \"NroLicitacion\",\n",
    "    \"FechaEnvioOC\",\n",
    "    \"EstadoOC\",\n",
    "    \"NombreOC\",\n",
    "     \n",
    "    # Institución compradora\n",
    "    \"Institucion\",\n",
    "    \"UnidadCompra\",\n",
    "    \"RegionUnidadCompra\",\n",
    "    \"Financiamiento\",\n",
    "\n",
    "    # Proveedor\n",
    "    \"Proveedor\",\n",
    "    \"ProveedorRUT\",\n",
    "    \"TamanoProveedor\",\n",
    "    \"RegionProveedor\",\n",
    "\n",
    "    # Montos y compra\n",
    "    \"MontoNetoOC_CLP\",\n",
    "    \"MontoNetoItemCLP\",\n",
    "    \"ProcedenciaOC\",\n",
    "\n",
    "    # Producto / Servicio\n",
    "    \"NombreItem\",\n",
    "    \"CantidadItem\",\n",
    "    \"RubroN1\",\n",
    "    \"RubroN2\",\n",
    "    \"RubroN3\",\n",
    "    \"ONUProducto\"\n",
    "]\n",
    "df = pd.read_csv(\"Municipalidades/Licitacion.csv\", sep=\";\", encoding=\"latin1\", usecols=columns_to_keep)"
   ]
  },
  {
   "cell_type": "code",
   "execution_count": 27,
   "id": "f0216963",
   "metadata": {},
   "outputs": [],
   "source": [
    "'''\n",
    "Limpieza básica de eliminación de nulos y duplicados\n",
    "'''\n",
    "\n",
    "df = df.drop_duplicates()\n",
    "\n",
    "df = clean_dataset(df, \"Licitacion\")"
   ]
  },
  {
   "cell_type": "code",
   "execution_count": 28,
   "id": "8772f988",
   "metadata": {},
   "outputs": [
    {
     "name": "stdout",
     "output_type": "stream",
     "text": [
      "<class 'pandas.core.frame.DataFrame'>\n",
      "Index: 234742 entries, 0 to 250821\n",
      "Data columns (total 22 columns):\n",
      " #   Column              Non-Null Count   Dtype         \n",
      "---  ------              --------------   -----         \n",
      " 0   codigoOC            234742 non-null  object        \n",
      " 1   NroLicitacion       234742 non-null  object        \n",
      " 2   FechaEnvioOC        234742 non-null  datetime64[ns]\n",
      " 3   NombreOC            234742 non-null  object        \n",
      " 4   EstadoOC            234742 non-null  object        \n",
      " 5   ProcedenciaOC       234742 non-null  object        \n",
      " 6   MontoNetoOC_CLP     234707 non-null  Int64         \n",
      " 7   Financiamiento      210968 non-null  object        \n",
      " 8   UnidadCompra        234742 non-null  object        \n",
      " 9   RegionUnidadCompra  233886 non-null  object        \n",
      " 10  Institucion         234742 non-null  object        \n",
      " 11  Proveedor           234742 non-null  object        \n",
      " 12  ProveedorRUT        234742 non-null  object        \n",
      " 13  TamanoProveedor     234742 non-null  object        \n",
      " 14  RegionProveedor     229948 non-null  object        \n",
      " 15  RubroN1             234742 non-null  object        \n",
      " 16  RubroN2             234742 non-null  object        \n",
      " 17  RubroN3             234742 non-null  object        \n",
      " 18  ONUProducto         234742 non-null  object        \n",
      " 19  NombreItem          234742 non-null  object        \n",
      " 20  CantidadItem        234742 non-null  Int64         \n",
      " 21  MontoNetoItemCLP    234707 non-null  Int64         \n",
      "dtypes: Int64(3), datetime64[ns](1), object(18)\n",
      "memory usage: 41.9+ MB\n"
     ]
    }
   ],
   "source": [
    "df.info()"
   ]
  },
  {
   "cell_type": "code",
   "execution_count": 29,
   "id": "fb33827e",
   "metadata": {},
   "outputs": [
    {
     "data": {
      "text/plain": [
       "'NroLicitacion'"
      ]
     },
     "execution_count": 29,
     "metadata": {},
     "output_type": "execute_result"
    }
   ],
   "source": [
    "# para los siguientes datasts, hay que sacar \"NroLicitacion\"\n",
    "columns_to_keep_2 = columns_to_keep.copy()  \n",
    "columns_to_keep_2.pop(1)"
   ]
  },
  {
   "cell_type": "code",
   "execution_count": 30,
   "id": "8a6ab881",
   "metadata": {},
   "outputs": [],
   "source": [
    "\n",
    "df_td = pd.read_csv(\"Municipalidades/TratoDirecto.csv\", sep=\";\", encoding=\"latin1\", usecols=columns_to_keep_2)"
   ]
  },
  {
   "cell_type": "code",
   "execution_count": 32,
   "id": "a2869653",
   "metadata": {},
   "outputs": [
    {
     "name": "stderr",
     "output_type": "stream",
     "text": [
      "/var/folders/rn/8kg7t05x7l3fy1mwbgcdkw240000gp/T/ipykernel_5825/1245742677.py:8: SettingWithCopyWarning: \n",
      "A value is trying to be set on a copy of a slice from a DataFrame.\n",
      "Try using .loc[row_indexer,col_indexer] = value instead\n",
      "\n",
      "See the caveats in the documentation: https://pandas.pydata.org/pandas-docs/stable/user_guide/indexing.html#returning-a-view-versus-a-copy\n",
      "  df['FechaEnvioOC'] = pd.to_datetime(df['FechaEnvioOC'], dayfirst=True, errors='coerce')\n",
      "/var/folders/rn/8kg7t05x7l3fy1mwbgcdkw240000gp/T/ipykernel_5825/1245742677.py:14: SettingWithCopyWarning: \n",
      "A value is trying to be set on a copy of a slice from a DataFrame.\n",
      "Try using .loc[row_indexer,col_indexer] = value instead\n",
      "\n",
      "See the caveats in the documentation: https://pandas.pydata.org/pandas-docs/stable/user_guide/indexing.html#returning-a-view-versus-a-copy\n",
      "  df[col] = df[col].astype(str).str.replace('.', '', regex=False)\n",
      "/var/folders/rn/8kg7t05x7l3fy1mwbgcdkw240000gp/T/ipykernel_5825/1245742677.py:15: SettingWithCopyWarning: \n",
      "A value is trying to be set on a copy of a slice from a DataFrame.\n",
      "Try using .loc[row_indexer,col_indexer] = value instead\n",
      "\n",
      "See the caveats in the documentation: https://pandas.pydata.org/pandas-docs/stable/user_guide/indexing.html#returning-a-view-versus-a-copy\n",
      "  df[col] = df[col].str.replace(',', '.', regex=False)\n",
      "/var/folders/rn/8kg7t05x7l3fy1mwbgcdkw240000gp/T/ipykernel_5825/1245742677.py:16: SettingWithCopyWarning: \n",
      "A value is trying to be set on a copy of a slice from a DataFrame.\n",
      "Try using .loc[row_indexer,col_indexer] = value instead\n",
      "\n",
      "See the caveats in the documentation: https://pandas.pydata.org/pandas-docs/stable/user_guide/indexing.html#returning-a-view-versus-a-copy\n",
      "  df[col] = pd.to_numeric(df[col], errors='coerce')\n",
      "/var/folders/rn/8kg7t05x7l3fy1mwbgcdkw240000gp/T/ipykernel_5825/1245742677.py:19: SettingWithCopyWarning: \n",
      "A value is trying to be set on a copy of a slice from a DataFrame.\n",
      "Try using .loc[row_indexer,col_indexer] = value instead\n",
      "\n",
      "See the caveats in the documentation: https://pandas.pydata.org/pandas-docs/stable/user_guide/indexing.html#returning-a-view-versus-a-copy\n",
      "  df[col] = df[col].round().astype('Int64')\n",
      "/var/folders/rn/8kg7t05x7l3fy1mwbgcdkw240000gp/T/ipykernel_5825/1245742677.py:14: SettingWithCopyWarning: \n",
      "A value is trying to be set on a copy of a slice from a DataFrame.\n",
      "Try using .loc[row_indexer,col_indexer] = value instead\n",
      "\n",
      "See the caveats in the documentation: https://pandas.pydata.org/pandas-docs/stable/user_guide/indexing.html#returning-a-view-versus-a-copy\n",
      "  df[col] = df[col].astype(str).str.replace('.', '', regex=False)\n",
      "/var/folders/rn/8kg7t05x7l3fy1mwbgcdkw240000gp/T/ipykernel_5825/1245742677.py:15: SettingWithCopyWarning: \n",
      "A value is trying to be set on a copy of a slice from a DataFrame.\n",
      "Try using .loc[row_indexer,col_indexer] = value instead\n",
      "\n",
      "See the caveats in the documentation: https://pandas.pydata.org/pandas-docs/stable/user_guide/indexing.html#returning-a-view-versus-a-copy\n",
      "  df[col] = df[col].str.replace(',', '.', regex=False)\n",
      "/var/folders/rn/8kg7t05x7l3fy1mwbgcdkw240000gp/T/ipykernel_5825/1245742677.py:16: SettingWithCopyWarning: \n",
      "A value is trying to be set on a copy of a slice from a DataFrame.\n",
      "Try using .loc[row_indexer,col_indexer] = value instead\n",
      "\n",
      "See the caveats in the documentation: https://pandas.pydata.org/pandas-docs/stable/user_guide/indexing.html#returning-a-view-versus-a-copy\n",
      "  df[col] = pd.to_numeric(df[col], errors='coerce')\n",
      "/var/folders/rn/8kg7t05x7l3fy1mwbgcdkw240000gp/T/ipykernel_5825/1245742677.py:19: SettingWithCopyWarning: \n",
      "A value is trying to be set on a copy of a slice from a DataFrame.\n",
      "Try using .loc[row_indexer,col_indexer] = value instead\n",
      "\n",
      "See the caveats in the documentation: https://pandas.pydata.org/pandas-docs/stable/user_guide/indexing.html#returning-a-view-versus-a-copy\n",
      "  df[col] = df[col].round().astype('Int64')\n",
      "/var/folders/rn/8kg7t05x7l3fy1mwbgcdkw240000gp/T/ipykernel_5825/1245742677.py:14: SettingWithCopyWarning: \n",
      "A value is trying to be set on a copy of a slice from a DataFrame.\n",
      "Try using .loc[row_indexer,col_indexer] = value instead\n",
      "\n",
      "See the caveats in the documentation: https://pandas.pydata.org/pandas-docs/stable/user_guide/indexing.html#returning-a-view-versus-a-copy\n",
      "  df[col] = df[col].astype(str).str.replace('.', '', regex=False)\n",
      "/var/folders/rn/8kg7t05x7l3fy1mwbgcdkw240000gp/T/ipykernel_5825/1245742677.py:15: SettingWithCopyWarning: \n",
      "A value is trying to be set on a copy of a slice from a DataFrame.\n",
      "Try using .loc[row_indexer,col_indexer] = value instead\n",
      "\n",
      "See the caveats in the documentation: https://pandas.pydata.org/pandas-docs/stable/user_guide/indexing.html#returning-a-view-versus-a-copy\n",
      "  df[col] = df[col].str.replace(',', '.', regex=False)\n",
      "/var/folders/rn/8kg7t05x7l3fy1mwbgcdkw240000gp/T/ipykernel_5825/1245742677.py:16: SettingWithCopyWarning: \n",
      "A value is trying to be set on a copy of a slice from a DataFrame.\n",
      "Try using .loc[row_indexer,col_indexer] = value instead\n",
      "\n",
      "See the caveats in the documentation: https://pandas.pydata.org/pandas-docs/stable/user_guide/indexing.html#returning-a-view-versus-a-copy\n",
      "  df[col] = pd.to_numeric(df[col], errors='coerce')\n",
      "/var/folders/rn/8kg7t05x7l3fy1mwbgcdkw240000gp/T/ipykernel_5825/1245742677.py:19: SettingWithCopyWarning: \n",
      "A value is trying to be set on a copy of a slice from a DataFrame.\n",
      "Try using .loc[row_indexer,col_indexer] = value instead\n",
      "\n",
      "See the caveats in the documentation: https://pandas.pydata.org/pandas-docs/stable/user_guide/indexing.html#returning-a-view-versus-a-copy\n",
      "  df[col] = df[col].round().astype('Int64')\n",
      "/var/folders/rn/8kg7t05x7l3fy1mwbgcdkw240000gp/T/ipykernel_5825/1245742677.py:25: SettingWithCopyWarning: \n",
      "A value is trying to be set on a copy of a slice from a DataFrame.\n",
      "Try using .loc[row_indexer,col_indexer] = value instead\n",
      "\n",
      "See the caveats in the documentation: https://pandas.pydata.org/pandas-docs/stable/user_guide/indexing.html#returning-a-view-versus-a-copy\n",
      "  df[col] = df[col].astype(str).str.strip().str.upper()\n",
      "/var/folders/rn/8kg7t05x7l3fy1mwbgcdkw240000gp/T/ipykernel_5825/1245742677.py:25: SettingWithCopyWarning: \n",
      "A value is trying to be set on a copy of a slice from a DataFrame.\n",
      "Try using .loc[row_indexer,col_indexer] = value instead\n",
      "\n",
      "See the caveats in the documentation: https://pandas.pydata.org/pandas-docs/stable/user_guide/indexing.html#returning-a-view-versus-a-copy\n",
      "  df[col] = df[col].astype(str).str.strip().str.upper()\n",
      "/var/folders/rn/8kg7t05x7l3fy1mwbgcdkw240000gp/T/ipykernel_5825/1245742677.py:25: SettingWithCopyWarning: \n",
      "A value is trying to be set on a copy of a slice from a DataFrame.\n",
      "Try using .loc[row_indexer,col_indexer] = value instead\n",
      "\n",
      "See the caveats in the documentation: https://pandas.pydata.org/pandas-docs/stable/user_guide/indexing.html#returning-a-view-versus-a-copy\n",
      "  df[col] = df[col].astype(str).str.strip().str.upper()\n",
      "/var/folders/rn/8kg7t05x7l3fy1mwbgcdkw240000gp/T/ipykernel_5825/1245742677.py:25: SettingWithCopyWarning: \n",
      "A value is trying to be set on a copy of a slice from a DataFrame.\n",
      "Try using .loc[row_indexer,col_indexer] = value instead\n",
      "\n",
      "See the caveats in the documentation: https://pandas.pydata.org/pandas-docs/stable/user_guide/indexing.html#returning-a-view-versus-a-copy\n",
      "  df[col] = df[col].astype(str).str.strip().str.upper()\n"
     ]
    }
   ],
   "source": [
    "'''\n",
    "Limpieza básica de eliminación de nulos y duplicados\n",
    "'''\n",
    "\n",
    "df_td = df_td.drop_duplicates()\n",
    "df_td = clean_dataset(df_td, \"TratoDirecto\")"
   ]
  },
  {
   "cell_type": "code",
   "execution_count": null,
   "id": "e13b5810",
   "metadata": {},
   "outputs": [
    {
     "name": "stdout",
     "output_type": "stream",
     "text": [
      "<class 'pandas.core.frame.DataFrame'>\n",
      "Index: 41941 entries, 0 to 43857\n",
      "Data columns (total 22 columns):\n",
      " #   Column              Non-Null Count  Dtype         \n",
      "---  ------              --------------  -----         \n",
      " 0   codigoOC            41941 non-null  object        \n",
      " 1   FechaEnvioOC        41941 non-null  datetime64[ns]\n",
      " 2   NombreOC            41941 non-null  object        \n",
      " 3   EstadoOC            41941 non-null  object        \n",
      " 4   ProcedenciaOC       41941 non-null  object        \n",
      " 5   MontoTotalOC        41941 non-null  Int64         \n",
      " 6   MontoNetoOC_CLP     41913 non-null  Int64         \n",
      " 7   UnidadCompra        41941 non-null  object        \n",
      " 8   RegionUnidadCompra  41941 non-null  object        \n",
      " 9   Institucion         41941 non-null  object        \n",
      " 10  Sector              41941 non-null  object        \n",
      " 11  Proveedor           41941 non-null  object        \n",
      " 12  ProveedorRUT        41941 non-null  object        \n",
      " 13  TamanoProveedor     41941 non-null  object        \n",
      " 14  RegionProveedor     41716 non-null  object        \n",
      " 15  RubroN1             41941 non-null  object        \n",
      " 16  RubroN2             41941 non-null  object        \n",
      " 17  RubroN3             41941 non-null  object        \n",
      " 18  ONUProducto         41941 non-null  object        \n",
      " 19  NombreItem          41941 non-null  object        \n",
      " 20  CantidadItem        41941 non-null  object        \n",
      " 21  MontoTotalItem      41941 non-null  Int64         \n",
      "dtypes: Int64(3), datetime64[ns](1), object(18)\n",
      "memory usage: 7.5+ MB\n"
     ]
    }
   ],
   "source": [
    "df_td.info()"
   ]
  },
  {
   "cell_type": "code",
   "execution_count": null,
   "id": "1e0d2783",
   "metadata": {},
   "outputs": [
    {
     "name": "stderr",
     "output_type": "stream",
     "text": [
      "/var/folders/rn/8kg7t05x7l3fy1mwbgcdkw240000gp/T/ipykernel_4415/2197230537.py:1: DtypeWarning: Columns (13,35,42) have mixed types. Specify dtype option on import or set low_memory=False.\n",
      "  df_ca = pd.read_csv(\"Municipalidades/CompraAgil.csv\", sep=\";\", encoding=\"latin1\", usecols=columns_to_keep_2)\n"
     ]
    }
   ],
   "source": [
    "df_ca = pd.read_csv(\"Municipalidades/CompraAgil.csv\", sep=\";\", encoding=\"latin1\", usecols=columns_to_keep_2)"
   ]
  },
  {
   "cell_type": "code",
   "execution_count": null,
   "id": "36b404c1",
   "metadata": {},
   "outputs": [],
   "source": [
    "df_ca = df_ca.dropna(subset=[\"Proveedor\", \"MontoTotalOC\"])\n",
    "df_ca = df_ca.drop_duplicates()\n",
    "df_ca = clean_dataset(df_ca, \"CompraAgil\")"
   ]
  },
  {
   "cell_type": "code",
   "execution_count": null,
   "id": "e7409725",
   "metadata": {},
   "outputs": [
    {
     "name": "stdout",
     "output_type": "stream",
     "text": [
      "<class 'pandas.core.frame.DataFrame'>\n",
      "Index: 426455 entries, 0 to 2492920\n",
      "Data columns (total 22 columns):\n",
      " #   Column              Non-Null Count   Dtype         \n",
      "---  ------              --------------   -----         \n",
      " 0   codigoOC            426455 non-null  object        \n",
      " 1   FechaEnvioOC        426455 non-null  datetime64[ns]\n",
      " 2   NombreOC            426455 non-null  object        \n",
      " 3   EstadoOC            426455 non-null  object        \n",
      " 4   ProcedenciaOC       426455 non-null  object        \n",
      " 5   MontoTotalOC        426455 non-null  Int64         \n",
      " 6   MontoNetoOC_CLP     426455 non-null  Int64         \n",
      " 7   UnidadCompra        426455 non-null  object        \n",
      " 8   RegionUnidadCompra  426455 non-null  object        \n",
      " 9   Institucion         426455 non-null  object        \n",
      " 10  Sector              426455 non-null  object        \n",
      " 11  Proveedor           426455 non-null  object        \n",
      " 12  ProveedorRUT        426455 non-null  object        \n",
      " 13  TamanoProveedor     426455 non-null  object        \n",
      " 14  RegionProveedor     421162 non-null  object        \n",
      " 15  RubroN1             426455 non-null  object        \n",
      " 16  RubroN2             426455 non-null  object        \n",
      " 17  RubroN3             426455 non-null  object        \n",
      " 18  ONUProducto         426455 non-null  object        \n",
      " 19  NombreItem          426455 non-null  object        \n",
      " 20  CantidadItem        426455 non-null  object        \n",
      " 21  MontoTotalItem      426455 non-null  Int64         \n",
      "dtypes: Int64(3), datetime64[ns](1), object(18)\n",
      "memory usage: 76.1+ MB\n"
     ]
    }
   ],
   "source": [
    "df_ca.info()"
   ]
  },
  {
   "cell_type": "code",
   "execution_count": null,
   "id": "f0ee48fa",
   "metadata": {},
   "outputs": [
    {
     "name": "stdout",
     "output_type": "stream",
     "text": [
      "Dataset combinado: (703144, 23)\n"
     ]
    }
   ],
   "source": [
    "# Concatenar datasets\n",
    "df_combined = pd.concat([df, df_td, df_ca], ignore_index=True)\n",
    "print(f\"Dataset combinado: {df_combined.shape}\")\n",
    "\n",
    "# crear carpeta si no existe\n",
    "output_dir = \"../datos_limpios\"\n",
    "if not os.path.exists(output_dir):\n",
    "    os.makedirs(output_dir)\n",
    "  \n",
    "# Guardar archivo\n",
    "output_file = \"../datos_limpios/municipalidades_combinado.csv\"\n",
    "df_combined.to_csv(output_file, index=False, sep=\";\", encoding=\"utf-8\")"
   ]
  }
 ],
 "metadata": {
  "kernelspec": {
   "display_name": "mineria",
   "language": "python",
   "name": "python3"
  },
  "language_info": {
   "codemirror_mode": {
    "name": "ipython",
    "version": 3
   },
   "file_extension": ".py",
   "mimetype": "text/x-python",
   "name": "python",
   "nbconvert_exporter": "python",
   "pygments_lexer": "ipython3",
   "version": "3.13.5"
  }
 },
 "nbformat": 4,
 "nbformat_minor": 5
}
