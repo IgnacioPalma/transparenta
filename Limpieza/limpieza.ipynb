{
 "cells": [
  {
   "cell_type": "markdown",
   "id": "4389557b",
   "metadata": {},
   "source": [
    "## Limpieza de Datos: Compras Públicas Municipalidades\n",
    "\n",
    "Este notebook documenta el proceso de limpieza y estandarización de datos de compras públicas municipales en Chile, obtenidos de la plataforma Mercado Público. El objetivo es preparar los datasets para un EDA posterior.\n",
    "\n",
    "Para correr este notebook es necesario tener un una carpeta llamada Municipalidad con los datos en formato csv, en el mismo directorio. el formato es:\n",
    "\n",
    "\"Limpieza/Municipalidades/CompraAgil.csv\" \n",
    "\n",
    "\n",
    "Se trabajará con 4 datasest: \n",
    "\n",
    "*  Compra Ágil\n",
    "* Convenio Marco\n",
    "* Licitación\n",
    "* Trato Directo\n",
    "\n",
    "\n",
    "!! Por ahora no trabajare con Convenio Marco, más adelante verémos si es de utilidad\n",
    "\n"
   ]
  },
  {
   "cell_type": "code",
   "execution_count": 45,
   "id": "e324a0ee",
   "metadata": {},
   "outputs": [],
   "source": [
    "import pandas as pd\n",
    "import os"
   ]
  },
  {
   "cell_type": "code",
   "execution_count": 46,
   "id": "a01f5405",
   "metadata": {},
   "outputs": [],
   "source": [
    "def clean_dataset(df, data_name):\n",
    "    \"\"\"\n",
    "    Función para limpiar tipos de datos en datasets de compras públicas\n",
    "    \"\"\"\n",
    "\n",
    "    # Fechas\n",
    "    if 'FechaEnvioOC' in df.columns:\n",
    "            df['FechaEnvioOC'] = pd.to_datetime(df['FechaEnvioOC'], dayfirst=True, errors='coerce')\n",
    "    \n",
    "    # Montos\n",
    "    for col in [\"MontoNetoOC_CLP\",\n",
    "                \"MontoNetoOC\",\n",
    "                \"MontoTotalOC\",\n",
    "                \"MontoTotalItem\",\n",
    "                \"MontoNetoItemCLP\",\n",
    "                \"MonedaItem\",\n",
    "                \"MontoNetoOC_CLP\"]:\n",
    "            \n",
    "        if col in df.columns:\n",
    "            #arreglar formatos\n",
    "            df[col] = df[col].astype(str).str.replace('.', '', regex=False)\n",
    "            df[col] = df[col].str.replace(',', '.', regex=False)\n",
    "            df[col] = pd.to_numeric(df[col], errors='coerce')\n",
    "            \n",
    "            # para trabajar con enteros\n",
    "            df[col] = df[col].round().astype('Int64')\n",
    "    \n",
    "    # Limpiar texto\n",
    "    text_columns = ['Proveedor', 'Institucion', 'NombreOC', 'NombreItem']\n",
    "    for col in text_columns:\n",
    "        if col in df.columns:\n",
    "            df[col] = df[col].astype(str).str.strip().str.upper()\n",
    "    #limpiar comas:\n",
    "\n",
    "    \n",
    "    for col in df.columns:\n",
    "            df[col] = df[col].astype(str).str.replace(',', '.', regex=False)\n",
    "    \n",
    "    \n",
    "    return df"
   ]
  },
  {
   "cell_type": "code",
   "execution_count": 47,
   "id": "014bf251",
   "metadata": {},
   "outputs": [],
   "source": [
    "'''\n",
    "Aqui voy a seleccionar algunas columnas de interés\n",
    "'''\n",
    "\n",
    "columns_to_keep = [\n",
    "    \"codigoOC\",\n",
    "    \"NroLicitacion\",\n",
    "    \"EstadoOC\",\n",
    "    \"NombreOC\",\n",
    "     \n",
    "    # Institución compradora\n",
    "    \"Institucion\",\n",
    "    \"UnidadCompra\",\n",
    "    \"RegionUnidadCompra\",\n",
    "    \"Financiamiento\",\n",
    "\n",
    "\n",
    "    # Proveedor\n",
    "    \"Proveedor\",\n",
    "    \"ProveedorRUT\",\n",
    "    \"TamanoProveedor\",\n",
    "    \"RegionProveedor\",\n",
    "\n",
    "    # Montos y compra\n",
    "    \"MontoNetoOC_CLP\",\n",
    "    \"MontoNetoOC\",\n",
    "    \"MontoTotalOC\",\n",
    "    \"MontoTotalItem\",\n",
    "    \"MontoNetoItemCLP\",\n",
    "    \"MonedaItem\",\n",
    "    \"MontoNetoOC_CLP\",\n",
    "\n",
    "    # Producto / Servicio\n",
    "    \"NombreItem\",\n",
    "    \"CantidadItem\",\n",
    "    \"RubroN1\",\n",
    "    \"RubroN2\",\n",
    "    \"RubroN3\",\n",
    "    \"CodigoProductoONU\"\n",
    "    \n",
    "]\n",
    "df = pd.read_csv(\"Municipalidades/Licitacion.csv\", sep=\";\", encoding=\"latin1\", usecols=columns_to_keep)"
   ]
  },
  {
   "cell_type": "code",
   "execution_count": 48,
   "id": "f0216963",
   "metadata": {},
   "outputs": [],
   "source": [
    "'''\n",
    "Limpieza básica de eliminación de nulos y duplicados\n",
    "'''\n",
    "\n",
    "df = df.drop_duplicates()\n",
    "\n",
    "df = clean_dataset(df, \"Licitacion\")"
   ]
  },
  {
   "cell_type": "code",
   "execution_count": 49,
   "id": "8772f988",
   "metadata": {},
   "outputs": [
    {
     "name": "stdout",
     "output_type": "stream",
     "text": [
      "<class 'pandas.core.frame.DataFrame'>\n",
      "Index: 234754 entries, 0 to 250821\n",
      "Data columns (total 24 columns):\n",
      " #   Column              Non-Null Count   Dtype \n",
      "---  ------              --------------   ----- \n",
      " 0   codigoOC            234754 non-null  object\n",
      " 1   NroLicitacion       234754 non-null  object\n",
      " 2   NombreOC            234754 non-null  object\n",
      " 3   EstadoOC            234754 non-null  object\n",
      " 4   MontoNetoOC         234754 non-null  object\n",
      " 5   MontoTotalOC        234754 non-null  object\n",
      " 6   MontoNetoOC_CLP     234754 non-null  object\n",
      " 7   Financiamiento      234754 non-null  object\n",
      " 8   UnidadCompra        234754 non-null  object\n",
      " 9   RegionUnidadCompra  234754 non-null  object\n",
      " 10  Institucion         234754 non-null  object\n",
      " 11  Proveedor           234754 non-null  object\n",
      " 12  ProveedorRUT        234754 non-null  object\n",
      " 13  TamanoProveedor     234754 non-null  object\n",
      " 14  RegionProveedor     234754 non-null  object\n",
      " 15  RubroN1             234754 non-null  object\n",
      " 16  RubroN2             234754 non-null  object\n",
      " 17  RubroN3             234754 non-null  object\n",
      " 18  CodigoProductoONU   234754 non-null  object\n",
      " 19  NombreItem          234754 non-null  object\n",
      " 20  CantidadItem        234754 non-null  object\n",
      " 21  MonedaItem          234754 non-null  object\n",
      " 22  MontoTotalItem      234754 non-null  object\n",
      " 23  MontoNetoItemCLP    234754 non-null  object\n",
      "dtypes: object(24)\n",
      "memory usage: 44.8+ MB\n"
     ]
    }
   ],
   "source": [
    "df.info()"
   ]
  },
  {
   "cell_type": "code",
   "execution_count": 50,
   "id": "fb33827e",
   "metadata": {},
   "outputs": [
    {
     "data": {
      "text/plain": [
       "'NroLicitacion'"
      ]
     },
     "execution_count": 50,
     "metadata": {},
     "output_type": "execute_result"
    }
   ],
   "source": [
    "# para los siguientes datasts, hay que sacar \"NroLicitacion\"\n",
    "columns_to_keep_2 = columns_to_keep.copy()  \n",
    "columns_to_keep_2.pop(1)"
   ]
  },
  {
   "cell_type": "code",
   "execution_count": 51,
   "id": "8a6ab881",
   "metadata": {},
   "outputs": [],
   "source": [
    "\n",
    "df_td = pd.read_csv(\"Municipalidades/TratoDirecto.csv\", sep=\";\", encoding=\"latin1\", usecols=columns_to_keep_2)"
   ]
  },
  {
   "cell_type": "code",
   "execution_count": 52,
   "id": "a2869653",
   "metadata": {},
   "outputs": [],
   "source": [
    "'''\n",
    "Limpieza básica de eliminación de nulos y duplicados\n",
    "'''\n",
    "\n",
    "df_td = df_td.drop_duplicates()\n",
    "df_td = clean_dataset(df_td, \"TratoDirecto\")"
   ]
  },
  {
   "cell_type": "code",
   "execution_count": 53,
   "id": "e13b5810",
   "metadata": {},
   "outputs": [
    {
     "name": "stdout",
     "output_type": "stream",
     "text": [
      "<class 'pandas.core.frame.DataFrame'>\n",
      "Index: 41942 entries, 0 to 43857\n",
      "Data columns (total 23 columns):\n",
      " #   Column              Non-Null Count  Dtype \n",
      "---  ------              --------------  ----- \n",
      " 0   codigoOC            41942 non-null  object\n",
      " 1   NombreOC            41942 non-null  object\n",
      " 2   EstadoOC            41942 non-null  object\n",
      " 3   MontoNetoOC         41942 non-null  object\n",
      " 4   MontoTotalOC        41942 non-null  object\n",
      " 5   MontoNetoOC_CLP     41942 non-null  object\n",
      " 6   Financiamiento      41942 non-null  object\n",
      " 7   UnidadCompra        41942 non-null  object\n",
      " 8   RegionUnidadCompra  41942 non-null  object\n",
      " 9   Institucion         41942 non-null  object\n",
      " 10  Proveedor           41942 non-null  object\n",
      " 11  ProveedorRUT        41942 non-null  object\n",
      " 12  TamanoProveedor     41942 non-null  object\n",
      " 13  RegionProveedor     41942 non-null  object\n",
      " 14  RubroN1             41942 non-null  object\n",
      " 15  RubroN2             41942 non-null  object\n",
      " 16  RubroN3             41942 non-null  object\n",
      " 17  CodigoProductoONU   41942 non-null  object\n",
      " 18  NombreItem          41942 non-null  object\n",
      " 19  CantidadItem        41942 non-null  object\n",
      " 20  MonedaItem          41942 non-null  object\n",
      " 21  MontoTotalItem      41942 non-null  object\n",
      " 22  MontoNetoItemCLP    41942 non-null  object\n",
      "dtypes: object(23)\n",
      "memory usage: 7.7+ MB\n"
     ]
    }
   ],
   "source": [
    "df_td.info()"
   ]
  },
  {
   "cell_type": "code",
   "execution_count": null,
   "id": "1e0d2783",
   "metadata": {},
   "outputs": [],
   "source": [
    "df_ca = pd.read_csv(\"Municipalidades/CompraAgil.csv\", sep=\";\", encoding=\"latin1\", usecols=columns_to_keep_2)"
   ]
  },
  {
   "cell_type": "code",
   "execution_count": null,
   "id": "36b404c1",
   "metadata": {},
   "outputs": [],
   "source": [
    "df_ca = df_ca.dropna(subset=[\"Proveedor\", \"CantidadItem\"])\n",
    "df_ca = df_ca.drop_duplicates()\n",
    "df_ca = clean_dataset(df_ca, \"CompraAgil\")"
   ]
  },
  {
   "cell_type": "code",
   "execution_count": null,
   "id": "e7409725",
   "metadata": {},
   "outputs": [
    {
     "name": "stdout",
     "output_type": "stream",
     "text": [
      "<class 'pandas.core.frame.DataFrame'>\n",
      "Index: 426484 entries, 0 to 2492920\n",
      "Data columns (total 23 columns):\n",
      " #   Column              Non-Null Count   Dtype \n",
      "---  ------              --------------   ----- \n",
      " 0   codigoOC            426484 non-null  object\n",
      " 1   NombreOC            426484 non-null  object\n",
      " 2   EstadoOC            426484 non-null  object\n",
      " 3   MontoNetoOC         426484 non-null  object\n",
      " 4   MontoTotalOC        426484 non-null  object\n",
      " 5   MontoNetoOC_CLP     426484 non-null  object\n",
      " 6   Financiamiento      426484 non-null  object\n",
      " 7   UnidadCompra        426484 non-null  object\n",
      " 8   RegionUnidadCompra  426484 non-null  object\n",
      " 9   Institucion         426484 non-null  object\n",
      " 10  Proveedor           426484 non-null  object\n",
      " 11  ProveedorRUT        426484 non-null  object\n",
      " 12  TamanoProveedor     426484 non-null  object\n",
      " 13  RegionProveedor     426484 non-null  object\n",
      " 14  RubroN1             426484 non-null  object\n",
      " 15  RubroN2             426484 non-null  object\n",
      " 16  RubroN3             426484 non-null  object\n",
      " 17  CodigoProductoONU   426484 non-null  object\n",
      " 18  NombreItem          426484 non-null  object\n",
      " 19  CantidadItem        426484 non-null  object\n",
      " 20  MonedaItem          426484 non-null  object\n",
      " 21  MontoTotalItem      426484 non-null  object\n",
      " 22  MontoNetoItemCLP    426484 non-null  object\n",
      "dtypes: object(23)\n",
      "memory usage: 78.1+ MB\n"
     ]
    }
   ],
   "source": [
    "df_ca.info()"
   ]
  },
  {
   "cell_type": "code",
   "execution_count": null,
   "id": "f0ee48fa",
   "metadata": {},
   "outputs": [
    {
     "ename": "TypeError",
     "evalue": "unsupported operand type(s) for /: 'str' and 'str'",
     "output_type": "error",
     "traceback": [
      "\u001b[31m---------------------------------------------------------------------------\u001b[39m",
      "\u001b[31mTypeError\u001b[39m                                 Traceback (most recent call last)",
      "\u001b[36mFile \u001b[39m\u001b[32m/opt/anaconda3/envs/mineria/lib/python3.13/site-packages/pandas/core/ops/array_ops.py:218\u001b[39m, in \u001b[36m_na_arithmetic_op\u001b[39m\u001b[34m(left, right, op, is_cmp)\u001b[39m\n\u001b[32m    217\u001b[39m \u001b[38;5;28;01mtry\u001b[39;00m:\n\u001b[32m--> \u001b[39m\u001b[32m218\u001b[39m     result = \u001b[43mfunc\u001b[49m\u001b[43m(\u001b[49m\u001b[43mleft\u001b[49m\u001b[43m,\u001b[49m\u001b[43m \u001b[49m\u001b[43mright\u001b[49m\u001b[43m)\u001b[49m\n\u001b[32m    219\u001b[39m \u001b[38;5;28;01mexcept\u001b[39;00m \u001b[38;5;167;01mTypeError\u001b[39;00m:\n",
      "\u001b[36mFile \u001b[39m\u001b[32m/opt/anaconda3/envs/mineria/lib/python3.13/site-packages/pandas/core/computation/expressions.py:242\u001b[39m, in \u001b[36mevaluate\u001b[39m\u001b[34m(op, a, b, use_numexpr)\u001b[39m\n\u001b[32m    240\u001b[39m     \u001b[38;5;28;01mif\u001b[39;00m use_numexpr:\n\u001b[32m    241\u001b[39m         \u001b[38;5;66;03m# error: \"None\" not callable\u001b[39;00m\n\u001b[32m--> \u001b[39m\u001b[32m242\u001b[39m         \u001b[38;5;28;01mreturn\u001b[39;00m \u001b[43m_evaluate\u001b[49m\u001b[43m(\u001b[49m\u001b[43mop\u001b[49m\u001b[43m,\u001b[49m\u001b[43m \u001b[49m\u001b[43mop_str\u001b[49m\u001b[43m,\u001b[49m\u001b[43m \u001b[49m\u001b[43ma\u001b[49m\u001b[43m,\u001b[49m\u001b[43m \u001b[49m\u001b[43mb\u001b[49m\u001b[43m)\u001b[49m  \u001b[38;5;66;03m# type: ignore[misc]\u001b[39;00m\n\u001b[32m    243\u001b[39m \u001b[38;5;28;01mreturn\u001b[39;00m _evaluate_standard(op, op_str, a, b)\n",
      "\u001b[36mFile \u001b[39m\u001b[32m/opt/anaconda3/envs/mineria/lib/python3.13/site-packages/pandas/core/computation/expressions.py:131\u001b[39m, in \u001b[36m_evaluate_numexpr\u001b[39m\u001b[34m(op, op_str, a, b)\u001b[39m\n\u001b[32m    130\u001b[39m \u001b[38;5;28;01mif\u001b[39;00m result \u001b[38;5;129;01mis\u001b[39;00m \u001b[38;5;28;01mNone\u001b[39;00m:\n\u001b[32m--> \u001b[39m\u001b[32m131\u001b[39m     result = \u001b[43m_evaluate_standard\u001b[49m\u001b[43m(\u001b[49m\u001b[43mop\u001b[49m\u001b[43m,\u001b[49m\u001b[43m \u001b[49m\u001b[43mop_str\u001b[49m\u001b[43m,\u001b[49m\u001b[43m \u001b[49m\u001b[43ma\u001b[49m\u001b[43m,\u001b[49m\u001b[43m \u001b[49m\u001b[43mb\u001b[49m\u001b[43m)\u001b[49m\n\u001b[32m    133\u001b[39m \u001b[38;5;28;01mreturn\u001b[39;00m result\n",
      "\u001b[36mFile \u001b[39m\u001b[32m/opt/anaconda3/envs/mineria/lib/python3.13/site-packages/pandas/core/computation/expressions.py:73\u001b[39m, in \u001b[36m_evaluate_standard\u001b[39m\u001b[34m(op, op_str, a, b)\u001b[39m\n\u001b[32m     72\u001b[39m     _store_test_result(\u001b[38;5;28;01mFalse\u001b[39;00m)\n\u001b[32m---> \u001b[39m\u001b[32m73\u001b[39m \u001b[38;5;28;01mreturn\u001b[39;00m \u001b[43mop\u001b[49m\u001b[43m(\u001b[49m\u001b[43ma\u001b[49m\u001b[43m,\u001b[49m\u001b[43m \u001b[49m\u001b[43mb\u001b[49m\u001b[43m)\u001b[49m\n",
      "\u001b[31mTypeError\u001b[39m: unsupported operand type(s) for /: 'str' and 'str'",
      "\nDuring handling of the above exception, another exception occurred:\n",
      "\u001b[31mTypeError\u001b[39m                                 Traceback (most recent call last)",
      "\u001b[36mCell\u001b[39m\u001b[36m \u001b[39m\u001b[32mIn[34]\u001b[39m\u001b[32m, line 3\u001b[39m\n\u001b[32m      1\u001b[39m \u001b[38;5;66;03m# Concatenar datasets\u001b[39;00m\n\u001b[32m      2\u001b[39m df_combined = pd.concat([df, df_td, df_ca], ignore_index=\u001b[38;5;28;01mTrue\u001b[39;00m)\n\u001b[32m----> \u001b[39m\u001b[32m3\u001b[39m df_combined[\u001b[33m'\u001b[39m\u001b[33mPrecio_Unitario_TOTAL\u001b[39m\u001b[33m'\u001b[39m] = \u001b[43mdf_combined\u001b[49m\u001b[43m[\u001b[49m\u001b[33;43m'\u001b[39;49m\u001b[33;43mMontoTotalItem\u001b[39;49m\u001b[33;43m'\u001b[39;49m\u001b[43m]\u001b[49m\u001b[43m \u001b[49m\u001b[43m/\u001b[49m\u001b[43m \u001b[49m\u001b[43mdf_combined\u001b[49m\u001b[43m[\u001b[49m\u001b[33;43m'\u001b[39;49m\u001b[33;43mCantidadItem\u001b[39;49m\u001b[33;43m'\u001b[39;49m\u001b[43m]\u001b[49m\n\u001b[32m      4\u001b[39m \u001b[38;5;28mprint\u001b[39m(\u001b[33mf\u001b[39m\u001b[33m\"\u001b[39m\u001b[33mDataset combinado: \u001b[39m\u001b[38;5;132;01m{\u001b[39;00mdf_combined.shape\u001b[38;5;132;01m}\u001b[39;00m\u001b[33m\"\u001b[39m)\n\u001b[32m      6\u001b[39m \u001b[38;5;66;03m# crear carpeta si no existe\u001b[39;00m\n",
      "\u001b[36mFile \u001b[39m\u001b[32m/opt/anaconda3/envs/mineria/lib/python3.13/site-packages/pandas/core/ops/common.py:76\u001b[39m, in \u001b[36m_unpack_zerodim_and_defer.<locals>.new_method\u001b[39m\u001b[34m(self, other)\u001b[39m\n\u001b[32m     72\u001b[39m             \u001b[38;5;28;01mreturn\u001b[39;00m \u001b[38;5;28mNotImplemented\u001b[39m\n\u001b[32m     74\u001b[39m other = item_from_zerodim(other)\n\u001b[32m---> \u001b[39m\u001b[32m76\u001b[39m \u001b[38;5;28;01mreturn\u001b[39;00m \u001b[43mmethod\u001b[49m\u001b[43m(\u001b[49m\u001b[38;5;28;43mself\u001b[39;49m\u001b[43m,\u001b[49m\u001b[43m \u001b[49m\u001b[43mother\u001b[49m\u001b[43m)\u001b[49m\n",
      "\u001b[36mFile \u001b[39m\u001b[32m/opt/anaconda3/envs/mineria/lib/python3.13/site-packages/pandas/core/arraylike.py:210\u001b[39m, in \u001b[36mOpsMixin.__truediv__\u001b[39m\u001b[34m(self, other)\u001b[39m\n\u001b[32m    208\u001b[39m \u001b[38;5;129m@unpack_zerodim_and_defer\u001b[39m(\u001b[33m\"\u001b[39m\u001b[33m__truediv__\u001b[39m\u001b[33m\"\u001b[39m)\n\u001b[32m    209\u001b[39m \u001b[38;5;28;01mdef\u001b[39;00m\u001b[38;5;250m \u001b[39m\u001b[34m__truediv__\u001b[39m(\u001b[38;5;28mself\u001b[39m, other):\n\u001b[32m--> \u001b[39m\u001b[32m210\u001b[39m     \u001b[38;5;28;01mreturn\u001b[39;00m \u001b[38;5;28;43mself\u001b[39;49m\u001b[43m.\u001b[49m\u001b[43m_arith_method\u001b[49m\u001b[43m(\u001b[49m\u001b[43mother\u001b[49m\u001b[43m,\u001b[49m\u001b[43m \u001b[49m\u001b[43moperator\u001b[49m\u001b[43m.\u001b[49m\u001b[43mtruediv\u001b[49m\u001b[43m)\u001b[49m\n",
      "\u001b[36mFile \u001b[39m\u001b[32m/opt/anaconda3/envs/mineria/lib/python3.13/site-packages/pandas/core/series.py:6146\u001b[39m, in \u001b[36mSeries._arith_method\u001b[39m\u001b[34m(self, other, op)\u001b[39m\n\u001b[32m   6144\u001b[39m \u001b[38;5;28;01mdef\u001b[39;00m\u001b[38;5;250m \u001b[39m\u001b[34m_arith_method\u001b[39m(\u001b[38;5;28mself\u001b[39m, other, op):\n\u001b[32m   6145\u001b[39m     \u001b[38;5;28mself\u001b[39m, other = \u001b[38;5;28mself\u001b[39m._align_for_op(other)\n\u001b[32m-> \u001b[39m\u001b[32m6146\u001b[39m     \u001b[38;5;28;01mreturn\u001b[39;00m \u001b[43mbase\u001b[49m\u001b[43m.\u001b[49m\u001b[43mIndexOpsMixin\u001b[49m\u001b[43m.\u001b[49m\u001b[43m_arith_method\u001b[49m\u001b[43m(\u001b[49m\u001b[38;5;28;43mself\u001b[39;49m\u001b[43m,\u001b[49m\u001b[43m \u001b[49m\u001b[43mother\u001b[49m\u001b[43m,\u001b[49m\u001b[43m \u001b[49m\u001b[43mop\u001b[49m\u001b[43m)\u001b[49m\n",
      "\u001b[36mFile \u001b[39m\u001b[32m/opt/anaconda3/envs/mineria/lib/python3.13/site-packages/pandas/core/base.py:1391\u001b[39m, in \u001b[36mIndexOpsMixin._arith_method\u001b[39m\u001b[34m(self, other, op)\u001b[39m\n\u001b[32m   1388\u001b[39m     rvalues = np.arange(rvalues.start, rvalues.stop, rvalues.step)\n\u001b[32m   1390\u001b[39m \u001b[38;5;28;01mwith\u001b[39;00m np.errstate(\u001b[38;5;28mall\u001b[39m=\u001b[33m\"\u001b[39m\u001b[33mignore\u001b[39m\u001b[33m\"\u001b[39m):\n\u001b[32m-> \u001b[39m\u001b[32m1391\u001b[39m     result = \u001b[43mops\u001b[49m\u001b[43m.\u001b[49m\u001b[43marithmetic_op\u001b[49m\u001b[43m(\u001b[49m\u001b[43mlvalues\u001b[49m\u001b[43m,\u001b[49m\u001b[43m \u001b[49m\u001b[43mrvalues\u001b[49m\u001b[43m,\u001b[49m\u001b[43m \u001b[49m\u001b[43mop\u001b[49m\u001b[43m)\u001b[49m\n\u001b[32m   1393\u001b[39m \u001b[38;5;28;01mreturn\u001b[39;00m \u001b[38;5;28mself\u001b[39m._construct_result(result, name=res_name)\n",
      "\u001b[36mFile \u001b[39m\u001b[32m/opt/anaconda3/envs/mineria/lib/python3.13/site-packages/pandas/core/ops/array_ops.py:283\u001b[39m, in \u001b[36marithmetic_op\u001b[39m\u001b[34m(left, right, op)\u001b[39m\n\u001b[32m    279\u001b[39m     _bool_arith_check(op, left, right)  \u001b[38;5;66;03m# type: ignore[arg-type]\u001b[39;00m\n\u001b[32m    281\u001b[39m     \u001b[38;5;66;03m# error: Argument 1 to \"_na_arithmetic_op\" has incompatible type\u001b[39;00m\n\u001b[32m    282\u001b[39m     \u001b[38;5;66;03m# \"Union[ExtensionArray, ndarray[Any, Any]]\"; expected \"ndarray[Any, Any]\"\u001b[39;00m\n\u001b[32m--> \u001b[39m\u001b[32m283\u001b[39m     res_values = \u001b[43m_na_arithmetic_op\u001b[49m\u001b[43m(\u001b[49m\u001b[43mleft\u001b[49m\u001b[43m,\u001b[49m\u001b[43m \u001b[49m\u001b[43mright\u001b[49m\u001b[43m,\u001b[49m\u001b[43m \u001b[49m\u001b[43mop\u001b[49m\u001b[43m)\u001b[49m  \u001b[38;5;66;03m# type: ignore[arg-type]\u001b[39;00m\n\u001b[32m    285\u001b[39m \u001b[38;5;28;01mreturn\u001b[39;00m res_values\n",
      "\u001b[36mFile \u001b[39m\u001b[32m/opt/anaconda3/envs/mineria/lib/python3.13/site-packages/pandas/core/ops/array_ops.py:227\u001b[39m, in \u001b[36m_na_arithmetic_op\u001b[39m\u001b[34m(left, right, op, is_cmp)\u001b[39m\n\u001b[32m    219\u001b[39m \u001b[38;5;28;01mexcept\u001b[39;00m \u001b[38;5;167;01mTypeError\u001b[39;00m:\n\u001b[32m    220\u001b[39m     \u001b[38;5;28;01mif\u001b[39;00m \u001b[38;5;129;01mnot\u001b[39;00m is_cmp \u001b[38;5;129;01mand\u001b[39;00m (\n\u001b[32m    221\u001b[39m         left.dtype == \u001b[38;5;28mobject\u001b[39m \u001b[38;5;129;01mor\u001b[39;00m \u001b[38;5;28mgetattr\u001b[39m(right, \u001b[33m\"\u001b[39m\u001b[33mdtype\u001b[39m\u001b[33m\"\u001b[39m, \u001b[38;5;28;01mNone\u001b[39;00m) == \u001b[38;5;28mobject\u001b[39m\n\u001b[32m    222\u001b[39m     ):\n\u001b[32m   (...)\u001b[39m\u001b[32m    225\u001b[39m         \u001b[38;5;66;03m# Don't do this for comparisons, as that will handle complex numbers\u001b[39;00m\n\u001b[32m    226\u001b[39m         \u001b[38;5;66;03m#  incorrectly, see GH#32047\u001b[39;00m\n\u001b[32m--> \u001b[39m\u001b[32m227\u001b[39m         result = \u001b[43m_masked_arith_op\u001b[49m\u001b[43m(\u001b[49m\u001b[43mleft\u001b[49m\u001b[43m,\u001b[49m\u001b[43m \u001b[49m\u001b[43mright\u001b[49m\u001b[43m,\u001b[49m\u001b[43m \u001b[49m\u001b[43mop\u001b[49m\u001b[43m)\u001b[49m\n\u001b[32m    228\u001b[39m     \u001b[38;5;28;01melse\u001b[39;00m:\n\u001b[32m    229\u001b[39m         \u001b[38;5;28;01mraise\u001b[39;00m\n",
      "\u001b[36mFile \u001b[39m\u001b[32m/opt/anaconda3/envs/mineria/lib/python3.13/site-packages/pandas/core/ops/array_ops.py:163\u001b[39m, in \u001b[36m_masked_arith_op\u001b[39m\u001b[34m(x, y, op)\u001b[39m\n\u001b[32m    161\u001b[39m     \u001b[38;5;66;03m# See GH#5284, GH#5035, GH#19448 for historical reference\u001b[39;00m\n\u001b[32m    162\u001b[39m     \u001b[38;5;28;01mif\u001b[39;00m mask.any():\n\u001b[32m--> \u001b[39m\u001b[32m163\u001b[39m         result[mask] = \u001b[43mop\u001b[49m\u001b[43m(\u001b[49m\u001b[43mxrav\u001b[49m\u001b[43m[\u001b[49m\u001b[43mmask\u001b[49m\u001b[43m]\u001b[49m\u001b[43m,\u001b[49m\u001b[43m \u001b[49m\u001b[43myrav\u001b[49m\u001b[43m[\u001b[49m\u001b[43mmask\u001b[49m\u001b[43m]\u001b[49m\u001b[43m)\u001b[49m\n\u001b[32m    165\u001b[39m \u001b[38;5;28;01melse\u001b[39;00m:\n\u001b[32m    166\u001b[39m     \u001b[38;5;28;01mif\u001b[39;00m \u001b[38;5;129;01mnot\u001b[39;00m is_scalar(y):\n",
      "\u001b[31mTypeError\u001b[39m: unsupported operand type(s) for /: 'str' and 'str'"
     ]
    }
   ],
   "source": [
    "# Concatenar datasets\n",
    "df_combined = pd.concat([df, df_td, df_ca], ignore_index=True)\n",
    "df_combined['Precio_Unitario_TOTAL'] = df_combined['MontoTotalItem'] / df_combined['CantidadItem']\n",
    "print(f\"Dataset combinado: {df_combined.shape}\")\n",
    "\n",
    "# crear carpeta si no existe\n",
    "output_dir = \"../datos_limpios\"\n",
    "if not os.path.exists(output_dir):\n",
    "    os.makedirs(output_dir)\n",
    "  \n",
    "# Guardar archivo\n",
    "output_file = \"../datos_limpios/municipalidades_combinado.csv\"\n",
    "df_combined.to_csv(output_file, index=False, encoding=\"utf-8\")"
   ]
  },
  {
   "cell_type": "code",
   "execution_count": null,
   "id": "2270277f",
   "metadata": {},
   "outputs": [],
   "source": []
  }
 ],
 "metadata": {
  "kernelspec": {
   "display_name": "mineria",
   "language": "python",
   "name": "python3"
  },
  "language_info": {
   "codemirror_mode": {
    "name": "ipython",
    "version": 3
   },
   "file_extension": ".py",
   "mimetype": "text/x-python",
   "name": "python",
   "nbconvert_exporter": "python",
   "pygments_lexer": "ipython3",
   "version": "3.13.5"
  }
 },
 "nbformat": 4,
 "nbformat_minor": 5
}
