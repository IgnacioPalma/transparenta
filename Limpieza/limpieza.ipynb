{
 "cells": [
  {
   "cell_type": "markdown",
   "id": "4389557b",
   "metadata": {},
   "source": [
    "## Limpieza de Datos: Compras Públicas Municipales\n",
    "\n",
    "Este notebook documenta el proceso de limpieza y estandarización de datos de compras públicas municipales en Chile, obtenidos de la plataforma Mercado Público. El objetivo es preparar los datasets para un EDA posterior.\n",
    "\n",
    "Para correr este notebook es necesario tener un una carpeta llamada Municipalidad con los datos en formato csv, en el mismo directorio.\n",
    "\n",
    "Se trabajará con 4 datasest: \n",
    "\n",
    "*  Compra Ágil\n",
    "* Convenio Marco\n",
    "* Licitación\n",
    "* Trato Directo\n",
    "\n",
    "\n"
   ]
  },
  {
   "cell_type": "code",
   "execution_count": 1,
   "id": "e324a0ee",
   "metadata": {},
   "outputs": [],
   "source": [
    "import pandas as pd"
   ]
  },
  {
   "cell_type": "code",
   "execution_count": null,
   "id": "014bf251",
   "metadata": {},
   "outputs": [],
   "source": [
    "'''\n",
    "Aqui voy a seleccionar algunas columnas de interés\n",
    "\n",
    "'''\n",
    "\n",
    "columns_to_keep = [\n",
    "    \"codigoOC\",\n",
    "    \"NroLicitacion\",\n",
    "    \"FechaEnvioOC\",\n",
    "    \"EstadoOC\",\n",
    "    \"NombreOC\", \n",
    "\n",
    "    # Institución compradora\n",
    "    \"Institucion\",\n",
    "    \"UnidadCompra\",\n",
    "    \"RegionUnidadCompra\",\n",
    "    \"Sector\",\n",
    "\n",
    "    # Proveedor\n",
    "    \"Proveedor\",\n",
    "    \"ProveedorRUT\",\n",
    "    \"TamanoProveedor\",\n",
    "    \"RegionProveedor\",\n",
    "\n",
    "    # Montos y compra\n",
    "    \"MontoNetoOC_CLP\",\n",
    "    \"MontoTotalOC\",\n",
    "    \"ProcedenciaOC\",\n",
    "\n",
    "    # Producto / Servicio\n",
    "    \"NombreItem\",\n",
    "    \"CantidadItem\",\n",
    "    \"MontoTotalItem\",\n",
    "    \"RubroN1\",\n",
    "    \"RubroN2\",\n",
    "    \"RubroN3\",\n",
    "    \"ONUProducto\"\n",
    "]\n",
    "\n",
    "df = pd.read_csv(\"Municipalidades/Licitacion.csv\", sep=\";\", encoding=\"latin1\", usecols=columns_to_keep)"
   ]
  },
  {
   "cell_type": "code",
   "execution_count": null,
   "id": "518a8b6e",
   "metadata": {},
   "outputs": [],
   "source": [
    "'''\n",
    "Limpieza básica de eliminación de nulos y duplicados\n",
    "'''\n",
    "\n",
    "df = df.dropna(subset=[\"Proveedor\", \"MontoTotalOC\"])\n",
    "df = df.drop_duplicates()"
   ]
  },
  {
   "cell_type": "code",
   "execution_count": 8,
   "id": "8772f988",
   "metadata": {},
   "outputs": [
    {
     "name": "stdout",
     "output_type": "stream",
     "text": [
      "<class 'pandas.core.frame.DataFrame'>\n",
      "Index: 234748 entries, 0 to 250821\n",
      "Data columns (total 23 columns):\n",
      " #   Column              Non-Null Count   Dtype \n",
      "---  ------              --------------   ----- \n",
      " 0   codigoOC            234748 non-null  object\n",
      " 1   NroLicitacion       234748 non-null  object\n",
      " 2   FechaEnvioOC        234748 non-null  object\n",
      " 3   NombreOC            234748 non-null  object\n",
      " 4   EstadoOC            234748 non-null  object\n",
      " 5   ProcedenciaOC       234748 non-null  object\n",
      " 6   MontoTotalOC        234748 non-null  object\n",
      " 7   MontoNetoOC_CLP     234707 non-null  object\n",
      " 8   UnidadCompra        234748 non-null  object\n",
      " 9   RegionUnidadCompra  233892 non-null  object\n",
      " 10  Institucion         234748 non-null  object\n",
      " 11  Sector              234748 non-null  object\n",
      " 12  Proveedor           234748 non-null  object\n",
      " 13  ProveedorRUT        234748 non-null  object\n",
      " 14  TamanoProveedor     234748 non-null  object\n",
      " 15  RegionProveedor     229954 non-null  object\n",
      " 16  RubroN1             234748 non-null  object\n",
      " 17  RubroN2             234748 non-null  object\n",
      " 18  RubroN3             234748 non-null  object\n",
      " 19  ONUProducto         234748 non-null  object\n",
      " 20  NombreItem          234748 non-null  object\n",
      " 21  CantidadItem        234748 non-null  object\n",
      " 22  MontoTotalItem      234748 non-null  object\n",
      "dtypes: object(23)\n",
      "memory usage: 43.0+ MB\n"
     ]
    }
   ],
   "source": [
    "df.info()"
   ]
  }
 ],
 "metadata": {
  "kernelspec": {
   "display_name": "mineria",
   "language": "python",
   "name": "python3"
  },
  "language_info": {
   "codemirror_mode": {
    "name": "ipython",
    "version": 3
   },
   "file_extension": ".py",
   "mimetype": "text/x-python",
   "name": "python",
   "nbconvert_exporter": "python",
   "pygments_lexer": "ipython3",
   "version": "3.13.5"
  }
 },
 "nbformat": 4,
 "nbformat_minor": 5
}
